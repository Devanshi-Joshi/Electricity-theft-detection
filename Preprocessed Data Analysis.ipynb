{
 "cells": [
  {
   "cell_type": "markdown",
   "id": "49525fbc",
   "metadata": {},
   "source": [
    "CNN LSTM Model"
   ]
  },
  {
   "cell_type": "code",
   "execution_count": 1,
   "id": "b7cc9623",
   "metadata": {},
   "outputs": [],
   "source": [
    "import pandas as pd\n",
    "import numpy as np\n",
    "import matplotlib.pyplot as plt\n",
    "import seaborn as sns"
   ]
  },
  {
   "cell_type": "code",
   "execution_count": 2,
   "id": "dd4affaf",
   "metadata": {},
   "outputs": [],
   "source": [
    "import keras\n",
    "import keras.backend as K\n",
    "\n",
    "from sklearn.preprocessing import StandardScaler\n",
    "from keras.models import Sequential\n",
    "import tensorflow as tf\n",
    "\n",
    "from keras.optimizers import Adam\n",
    "from keras.models import load_model\n",
    "from keras.callbacks import ModelCheckpoint\n",
    "\n",
    "from sklearn.model_selection import train_test_split\n",
    "from sklearn.preprocessing import LabelEncoder\n",
    "from keras.models import Model\n",
    "from keras.layers import LSTM, Activation, Dense, Dropout, Conv1D, MaxPooling1D, Flatten, MaxPool1D, BatchNormalization, TimeDistributed\n",
    "from keras.optimizers import RMSprop\n",
    "from keras.preprocessing.text import Tokenizer\n",
    "from keras.preprocessing import sequence\n",
    "from keras.utils import to_categorical\n",
    "from keras.callbacks import EarlyStopping\n",
    "from keras.preprocessing import sequence\n",
    "from keras.models import Sequential"
   ]
  },
  {
   "cell_type": "code",
   "execution_count": 3,
   "id": "e17c2878",
   "metadata": {},
   "outputs": [],
   "source": [
    "df = pd.read_csv(\"Preprocessed_Consumer_Data.csv\")"
   ]
  },
  {
   "cell_type": "code",
   "execution_count": 4,
   "id": "e548267c",
   "metadata": {},
   "outputs": [],
   "source": [
    "# df = pd.read_csv(\"Synthetic_Consumer_Data.csv\")"
   ]
  },
  {
   "cell_type": "code",
   "execution_count": 5,
   "id": "e7af07a9",
   "metadata": {},
   "outputs": [
    {
     "data": {
      "text/plain": [
       "(32746, 1036)"
      ]
     },
     "execution_count": 5,
     "metadata": {},
     "output_type": "execute_result"
    }
   ],
   "source": [
    "df.drop([\"Unnamed: 0\"], inplace=True, axis=1)\n",
    "df.shape"
   ]
  },
  {
   "cell_type": "code",
   "execution_count": 6,
   "id": "a5a676d9",
   "metadata": {},
   "outputs": [
    {
     "data": {
      "text/html": [
       "<div>\n",
       "<style scoped>\n",
       "    .dataframe tbody tr th:only-of-type {\n",
       "        vertical-align: middle;\n",
       "    }\n",
       "\n",
       "    .dataframe tbody tr th {\n",
       "        vertical-align: top;\n",
       "    }\n",
       "\n",
       "    .dataframe thead th {\n",
       "        text-align: right;\n",
       "    }\n",
       "</style>\n",
       "<table border=\"1\" class=\"dataframe\">\n",
       "  <thead>\n",
       "    <tr style=\"text-align: right;\">\n",
       "      <th></th>\n",
       "      <th>CONS_NO</th>\n",
       "      <th>FLAG</th>\n",
       "      <th>2014/01/01</th>\n",
       "      <th>2014/01/02</th>\n",
       "      <th>2014/01/03</th>\n",
       "      <th>2014/01/04</th>\n",
       "      <th>2014/01/05</th>\n",
       "      <th>2014/01/06</th>\n",
       "      <th>2014/01/07</th>\n",
       "      <th>2014/01/08</th>\n",
       "      <th>...</th>\n",
       "      <th>2016/10/22</th>\n",
       "      <th>2016/10/23</th>\n",
       "      <th>2016/10/24</th>\n",
       "      <th>2016/10/25</th>\n",
       "      <th>2016/10/26</th>\n",
       "      <th>2016/10/27</th>\n",
       "      <th>2016/10/28</th>\n",
       "      <th>2016/10/29</th>\n",
       "      <th>2016/10/30</th>\n",
       "      <th>2016/10/31</th>\n",
       "    </tr>\n",
       "  </thead>\n",
       "  <tbody>\n",
       "    <tr>\n",
       "      <th>0</th>\n",
       "      <td>0387DD8A07E07FDA6271170F86AD9151</td>\n",
       "      <td>1</td>\n",
       "      <td>0.00</td>\n",
       "      <td>0.00</td>\n",
       "      <td>0.00</td>\n",
       "      <td>0.00</td>\n",
       "      <td>0.00</td>\n",
       "      <td>0.00</td>\n",
       "      <td>0.00</td>\n",
       "      <td>0.00</td>\n",
       "      <td>...</td>\n",
       "      <td>7.18</td>\n",
       "      <td>8.07</td>\n",
       "      <td>8.09</td>\n",
       "      <td>9.53</td>\n",
       "      <td>5.48</td>\n",
       "      <td>8.75</td>\n",
       "      <td>9.30</td>\n",
       "      <td>7.54</td>\n",
       "      <td>9.16</td>\n",
       "      <td>6.74</td>\n",
       "    </tr>\n",
       "    <tr>\n",
       "      <th>1</th>\n",
       "      <td>B32AC8CC6D5D805AC053557AB05F5343</td>\n",
       "      <td>1</td>\n",
       "      <td>0.00</td>\n",
       "      <td>0.00</td>\n",
       "      <td>0.00</td>\n",
       "      <td>0.00</td>\n",
       "      <td>0.00</td>\n",
       "      <td>0.00</td>\n",
       "      <td>0.00</td>\n",
       "      <td>0.00</td>\n",
       "      <td>...</td>\n",
       "      <td>12.81</td>\n",
       "      <td>15.12</td>\n",
       "      <td>17.26</td>\n",
       "      <td>14.91</td>\n",
       "      <td>19.59</td>\n",
       "      <td>20.79</td>\n",
       "      <td>17.95</td>\n",
       "      <td>19.26</td>\n",
       "      <td>14.46</td>\n",
       "      <td>11.72</td>\n",
       "    </tr>\n",
       "    <tr>\n",
       "      <th>2</th>\n",
       "      <td>EDFC78B07BA2908B3395C4EB2304665E</td>\n",
       "      <td>1</td>\n",
       "      <td>2.90</td>\n",
       "      <td>5.64</td>\n",
       "      <td>6.99</td>\n",
       "      <td>3.32</td>\n",
       "      <td>3.61</td>\n",
       "      <td>5.35</td>\n",
       "      <td>4.73</td>\n",
       "      <td>3.68</td>\n",
       "      <td>...</td>\n",
       "      <td>14.21</td>\n",
       "      <td>10.22</td>\n",
       "      <td>8.47</td>\n",
       "      <td>6.11</td>\n",
       "      <td>6.10</td>\n",
       "      <td>6.73</td>\n",
       "      <td>7.52</td>\n",
       "      <td>10.89</td>\n",
       "      <td>9.86</td>\n",
       "      <td>8.72</td>\n",
       "    </tr>\n",
       "    <tr>\n",
       "      <th>3</th>\n",
       "      <td>34C1954AA3703C4F8BD8EAEA7C4B7B83</td>\n",
       "      <td>1</td>\n",
       "      <td>0.11</td>\n",
       "      <td>0.11</td>\n",
       "      <td>0.25</td>\n",
       "      <td>0.27</td>\n",
       "      <td>0.21</td>\n",
       "      <td>0.20</td>\n",
       "      <td>0.14</td>\n",
       "      <td>0.34</td>\n",
       "      <td>...</td>\n",
       "      <td>1.85</td>\n",
       "      <td>3.36</td>\n",
       "      <td>1.45</td>\n",
       "      <td>2.12</td>\n",
       "      <td>1.55</td>\n",
       "      <td>1.18</td>\n",
       "      <td>1.13</td>\n",
       "      <td>1.34</td>\n",
       "      <td>1.26</td>\n",
       "      <td>1.40</td>\n",
       "    </tr>\n",
       "    <tr>\n",
       "      <th>4</th>\n",
       "      <td>768309B0EB11FD436CEE5ABFB84F4C0C</td>\n",
       "      <td>1</td>\n",
       "      <td>0.91</td>\n",
       "      <td>1.16</td>\n",
       "      <td>0.75</td>\n",
       "      <td>1.30</td>\n",
       "      <td>0.74</td>\n",
       "      <td>0.94</td>\n",
       "      <td>0.85</td>\n",
       "      <td>1.21</td>\n",
       "      <td>...</td>\n",
       "      <td>3.55</td>\n",
       "      <td>3.22</td>\n",
       "      <td>3.06</td>\n",
       "      <td>3.97</td>\n",
       "      <td>2.79</td>\n",
       "      <td>3.82</td>\n",
       "      <td>2.75</td>\n",
       "      <td>2.96</td>\n",
       "      <td>3.67</td>\n",
       "      <td>2.91</td>\n",
       "    </tr>\n",
       "  </tbody>\n",
       "</table>\n",
       "<p>5 rows × 1036 columns</p>\n",
       "</div>"
      ],
      "text/plain": [
       "                            CONS_NO  FLAG  2014/01/01  2014/01/02  2014/01/03  \\\n",
       "0  0387DD8A07E07FDA6271170F86AD9151     1        0.00        0.00        0.00   \n",
       "1  B32AC8CC6D5D805AC053557AB05F5343     1        0.00        0.00        0.00   \n",
       "2  EDFC78B07BA2908B3395C4EB2304665E     1        2.90        5.64        6.99   \n",
       "3  34C1954AA3703C4F8BD8EAEA7C4B7B83     1        0.11        0.11        0.25   \n",
       "4  768309B0EB11FD436CEE5ABFB84F4C0C     1        0.91        1.16        0.75   \n",
       "\n",
       "   2014/01/04  2014/01/05  2014/01/06  2014/01/07  2014/01/08  ...  \\\n",
       "0        0.00        0.00        0.00        0.00        0.00  ...   \n",
       "1        0.00        0.00        0.00        0.00        0.00  ...   \n",
       "2        3.32        3.61        5.35        4.73        3.68  ...   \n",
       "3        0.27        0.21        0.20        0.14        0.34  ...   \n",
       "4        1.30        0.74        0.94        0.85        1.21  ...   \n",
       "\n",
       "   2016/10/22  2016/10/23  2016/10/24  2016/10/25  2016/10/26  2016/10/27  \\\n",
       "0        7.18        8.07        8.09        9.53        5.48        8.75   \n",
       "1       12.81       15.12       17.26       14.91       19.59       20.79   \n",
       "2       14.21       10.22        8.47        6.11        6.10        6.73   \n",
       "3        1.85        3.36        1.45        2.12        1.55        1.18   \n",
       "4        3.55        3.22        3.06        3.97        2.79        3.82   \n",
       "\n",
       "   2016/10/28  2016/10/29  2016/10/30  2016/10/31  \n",
       "0        9.30        7.54        9.16        6.74  \n",
       "1       17.95       19.26       14.46       11.72  \n",
       "2        7.52       10.89        9.86        8.72  \n",
       "3        1.13        1.34        1.26        1.40  \n",
       "4        2.75        2.96        3.67        2.91  \n",
       "\n",
       "[5 rows x 1036 columns]"
      ]
     },
     "execution_count": 6,
     "metadata": {},
     "output_type": "execute_result"
    }
   ],
   "source": [
    "df.head()"
   ]
  },
  {
   "cell_type": "code",
   "execution_count": 7,
   "id": "8d7756e3",
   "metadata": {},
   "outputs": [],
   "source": [
    "X = df.drop([\"CONS_NO\",\"FLAG\"], axis=1).values\n",
    "Y = df[\"FLAG\"].values\n",
    "X_train,X_test,Y_train,Y_test = train_test_split(X,Y,test_size=0.15)"
   ]
  },
  {
   "cell_type": "code",
   "execution_count": 8,
   "id": "03013743",
   "metadata": {},
   "outputs": [],
   "source": [
    "scaler = StandardScaler()\n",
    "X = scaler.fit_transform(X)\n",
    "\n",
    "X_train = X_train.reshape(X_train.shape[0], X_train.shape[1], 1)\n",
    "X_test = X_test.reshape(X_test.shape[0], X_test.shape[1], 1)\n",
    "\n"
   ]
  },
  {
   "cell_type": "code",
   "execution_count": 9,
   "id": "b5e8f715",
   "metadata": {},
   "outputs": [
    {
     "data": {
      "text/html": [
       "<div>\n",
       "<style scoped>\n",
       "    .dataframe tbody tr th:only-of-type {\n",
       "        vertical-align: middle;\n",
       "    }\n",
       "\n",
       "    .dataframe tbody tr th {\n",
       "        vertical-align: top;\n",
       "    }\n",
       "\n",
       "    .dataframe thead th {\n",
       "        text-align: right;\n",
       "    }\n",
       "</style>\n",
       "<table border=\"1\" class=\"dataframe\">\n",
       "  <thead>\n",
       "    <tr style=\"text-align: right;\">\n",
       "      <th></th>\n",
       "      <th>CONS_NO</th>\n",
       "      <th>FLAG</th>\n",
       "      <th>2014/01/01</th>\n",
       "      <th>2014/01/02</th>\n",
       "      <th>2014/01/03</th>\n",
       "      <th>2014/01/04</th>\n",
       "      <th>2014/01/05</th>\n",
       "      <th>2014/01/06</th>\n",
       "      <th>2014/01/07</th>\n",
       "      <th>2014/01/08</th>\n",
       "      <th>...</th>\n",
       "      <th>2016/10/22</th>\n",
       "      <th>2016/10/23</th>\n",
       "      <th>2016/10/24</th>\n",
       "      <th>2016/10/25</th>\n",
       "      <th>2016/10/26</th>\n",
       "      <th>2016/10/27</th>\n",
       "      <th>2016/10/28</th>\n",
       "      <th>2016/10/29</th>\n",
       "      <th>2016/10/30</th>\n",
       "      <th>2016/10/31</th>\n",
       "    </tr>\n",
       "  </thead>\n",
       "  <tbody>\n",
       "  </tbody>\n",
       "</table>\n",
       "<p>0 rows × 1036 columns</p>\n",
       "</div>"
      ],
      "text/plain": [
       "Empty DataFrame\n",
       "Columns: [CONS_NO, FLAG, 2014/01/01, 2014/01/02, 2014/01/03, 2014/01/04, 2014/01/05, 2014/01/06, 2014/01/07, 2014/01/08, 2014/01/09, 2014/01/10, 2014/01/11, 2014/01/12, 2014/01/13, 2014/01/14, 2014/01/15, 2014/01/16, 2014/01/17, 2014/01/18, 2014/01/19, 2014/01/20, 2014/01/21, 2014/01/22, 2014/01/23, 2014/01/24, 2014/01/25, 2014/01/26, 2014/01/27, 2014/01/28, 2014/01/29, 2014/01/30, 2014/01/31, 2014/02/01, 2014/02/02, 2014/02/03, 2014/02/04, 2014/02/05, 2014/02/06, 2014/02/07, 2014/02/08, 2014/02/09, 2014/02/10, 2014/02/11, 2014/02/12, 2014/02/13, 2014/02/14, 2014/02/15, 2014/02/16, 2014/02/17, 2014/02/18, 2014/02/19, 2014/02/20, 2014/02/21, 2014/02/22, 2014/02/23, 2014/02/24, 2014/02/25, 2014/02/26, 2014/02/27, 2014/02/28, 2014/03/01, 2014/03/02, 2014/03/03, 2014/03/04, 2014/03/05, 2014/03/06, 2014/03/07, 2014/03/08, 2014/03/09, 2014/03/10, 2014/03/11, 2014/03/12, 2014/03/13, 2014/03/14, 2014/03/15, 2014/03/16, 2014/03/17, 2014/03/18, 2014/03/19, 2014/03/20, 2014/03/21, 2014/03/22, 2014/03/23, 2014/03/24, 2014/03/25, 2014/03/26, 2014/03/27, 2014/03/28, 2014/03/29, 2014/03/30, 2014/03/31, 2014/04/01, 2014/04/02, 2014/04/03, 2014/04/04, 2014/04/05, 2014/04/06, 2014/04/07, 2014/04/08, ...]\n",
       "Index: []\n",
       "\n",
       "[0 rows x 1036 columns]"
      ]
     },
     "execution_count": 9,
     "metadata": {},
     "output_type": "execute_result"
    }
   ],
   "source": [
    "X_train.shape\n",
    "df[df.isnull().sum(axis=1)>0]"
   ]
  },
  {
   "cell_type": "code",
   "execution_count": 10,
   "id": "3ddd1e44",
   "metadata": {},
   "outputs": [],
   "source": [
    "input_shape=(1034, 1)"
   ]
  },
  {
   "cell_type": "code",
   "execution_count": 11,
   "id": "5aa51db7",
   "metadata": {},
   "outputs": [
    {
     "name": "stdout",
     "output_type": "stream",
     "text": [
      "Model: \"sequential\"\n",
      "_________________________________________________________________\n",
      " Layer (type)                Output Shape              Param #   \n",
      "=================================================================\n",
      " conv1d (Conv1D)             (None, 1032, 32)          128       \n",
      "                                                                 \n",
      " max_pooling1d (MaxPooling1D  (None, 516, 32)          0         \n",
      " )                                                               \n",
      "                                                                 \n",
      " lstm (LSTM)                 (None, 32)                8320      \n",
      "                                                                 \n",
      " flatten (Flatten)           (None, 32)                0         \n",
      "                                                                 \n",
      " dense (Dense)               (None, 32)                1056      \n",
      "                                                                 \n",
      " dense_1 (Dense)             (None, 1)                 33        \n",
      "                                                                 \n",
      "=================================================================\n",
      "Total params: 9,537\n",
      "Trainable params: 9,537\n",
      "Non-trainable params: 0\n",
      "_________________________________________________________________\n"
     ]
    }
   ],
   "source": [
    "# define CNN-LSTM model\n",
    "\n",
    "#model1 CNN-LSTM Model\n",
    "\n",
    "model = Sequential()\n",
    "model.add(Conv1D(filters=32, kernel_size=3, activation='relu', input_shape=(1034, 1)))\n",
    "model.add(MaxPooling1D(pool_size=2))\n",
    "# model.add(BatchNormalization())\n",
    "\n",
    "\n",
    "model.add(LSTM(units=32, activation='relu'))\n",
    "model.add(Flatten())\n",
    "\n",
    "model.add(Dense(units=32, activation='relu'))\n",
    "model.add(Dense(units=1, activation='sigmoid'))\n",
    "\n",
    "model.summary()"
   ]
  },
  {
   "cell_type": "code",
   "execution_count": 12,
   "id": "c14e2303",
   "metadata": {},
   "outputs": [
    {
     "name": "stdout",
     "output_type": "stream",
     "text": [
      "218/218 [==============================] - ETA: 0s - loss: nan - accuracy: 0.8462WARNING:tensorflow:Can save best model only with val_acc available, skipping.\n",
      "218/218 [==============================] - 60s 264ms/step - loss: nan - accuracy: 0.8462 - val_loss: nan - val_accuracy: 0.9175\n"
     ]
    }
   ],
   "source": [
    "# adam = Adam(learning_rate=0.001)\n",
    "from keras import losses\n",
    "chk = ModelCheckpoint('best_model.pkl', monitor='val_acc', save_best_only=True, mode='max', verbose=1)\n",
    "model.compile(loss=losses.mean_squared_error, optimizer=\"adam\", metrics=['accuracy'])\n",
    "history = model.fit(X_train, Y_train, epochs=1, batch_size=128, callbacks=[chk], validation_data=(X_test,Y_test))"
   ]
  },
  {
   "cell_type": "code",
   "execution_count": 13,
   "id": "961b1e04",
   "metadata": {},
   "outputs": [
    {
     "name": "stdout",
     "output_type": "stream",
     "text": [
      "154/154 [==============================] - 7s 43ms/step - loss: nan - accuracy: 0.9175\n",
      "Accuracy: 0.9175488352775574\n",
      "154/154 [==============================] - 7s 46ms/step\n"
     ]
    },
    {
     "data": {
      "text/plain": [
       "array([[nan],\n",
       "       [nan],\n",
       "       [nan],\n",
       "       ...,\n",
       "       [nan],\n",
       "       [nan],\n",
       "       [nan]], dtype=float32)"
      ]
     },
     "execution_count": 13,
     "metadata": {},
     "output_type": "execute_result"
    }
   ],
   "source": [
    "# evaluate model\n",
    "loss, accuracy = model.evaluate(X_test, Y_test)\n",
    "print(f'Accuracy: {accuracy}')\n",
    "\n",
    "# make predictions\n",
    "y_pred = model.predict(X_test)\n",
    "y_pred\n"
   ]
  },
  {
   "cell_type": "code",
   "execution_count": 14,
   "id": "ea5f93b6",
   "metadata": {},
   "outputs": [
    {
     "ename": "SyntaxError",
     "evalue": "invalid syntax (451446235.py, line 7)",
     "output_type": "error",
     "traceback": [
      "\u001b[1;36m  Input \u001b[1;32mIn [14]\u001b[1;36m\u001b[0m\n\u001b[1;33m    model.add(MaxPooling1D(pool_size=2))\u001b[0m\n\u001b[1;37m    ^\u001b[0m\n\u001b[1;31mSyntaxError\u001b[0m\u001b[1;31m:\u001b[0m invalid syntax\n"
     ]
    }
   ],
   "source": [
    "# # define CNN-LSTM model\n",
    "# model = Sequential()\n",
    "# model.add(Conv1D(filters=32, kernel_size=3, activation='relu', input_shape=(X.shape[1], 1)))\n",
    "# model.add(MaxPooling1D(pool_size=2))\n",
    "\n",
    "# model.add(Conv1D(filters=32, kernel_size=3, activation='relu')\n",
    "# model.add(MaxPooling1D(pool_size=2))\n",
    "\n",
    "# model.add(LSTM(units=32, activation='relu'))\n",
    "# model.add(Dense(units=1, activation='sigmoid'))\n",
    "\n",
    "# model.summary()"
   ]
  },
  {
   "cell_type": "code",
   "execution_count": null,
   "id": "b8e55a30",
   "metadata": {},
   "outputs": [],
   "source": [
    "from sklearn import metrics\n",
    "print(metrics.accuracy_score(Y_test, y_pred))"
   ]
  },
  {
   "cell_type": "code",
   "execution_count": null,
   "id": "78d2ae4b",
   "metadata": {},
   "outputs": [],
   "source": [
    "#model2 LSTM Model\n",
    "\n",
    "model_LSTM = Sequential()\n",
    "model_LSTM.add(LSTM(256, input_shape=(1034,1)))\n",
    "model_LSTM.add(Dense(1, activation='sigmoid'))\n",
    "model_LSTM.summary()"
   ]
  },
  {
   "cell_type": "code",
   "execution_count": null,
   "id": "a7597065",
   "metadata": {},
   "outputs": [],
   "source": [
    "adam = Adam(learning_rate=0.001)\n",
    "chk = ModelCheckpoint('best_model.pkl', monitor='val_acc', save_best_only=True, mode='max', verbose=1)\n",
    "model_LSTM.compile(loss='binary_crossentropy', optimizer=adam, metrics=['accuracy'])\n",
    "history=model_LSTM.fit(X_train, Y_train, epochs=1, batch_size=256, callbacks=[chk], validation_data=(X_test,Y_test))"
   ]
  },
  {
   "cell_type": "code",
   "execution_count": null,
   "id": "4a39b938",
   "metadata": {},
   "outputs": [],
   "source": [
    "# evaluate model\n",
    "loss, accuracy = model_LSTM.evaluate(X_test, Y_test)\n",
    "print(f'Accuracy: {accuracy}')\n",
    "\n",
    "# make predictions\n",
    "y_pred = model_LSTM.predict(X_test)\n",
    "y_pred\n"
   ]
  },
  {
   "cell_type": "code",
   "execution_count": null,
   "id": "3b5d1e42",
   "metadata": {},
   "outputs": [],
   "source": []
  },
  {
   "cell_type": "code",
   "execution_count": null,
   "id": "01234d47",
   "metadata": {},
   "outputs": [],
   "source": [
    "# evaluate the model\n",
    "_, train_acc = model.evaluate(X_train, Y_train, verbose=0)\n",
    "_, test_acc = model.evaluate(X_test, Y_test, verbose=0)\n",
    "print('Train: %.3f, Test: %.3f' % (train_acc, test_acc))\n",
    "# plot loss during training\n",
    "plt.subplot(211)\n",
    "plt.title('Loss')\n",
    "plt.plot(history.history['loss'], label='train')\n",
    "plt.plot(history.history['val_loss'], label='test')\n",
    "plt.legend()\n",
    "# plot accuracy during training\n",
    "plt.subplot(212)\n",
    "plt.title('Accuracy')\n",
    "plt.plot(history.history['accuracy'], label='train')\n",
    "plt.plot(history.history['val_accuracy'], label='test')\n",
    "plt.legend()\n",
    "plt.show()"
   ]
  },
  {
   "cell_type": "code",
   "execution_count": null,
   "id": "2a3c1e2b",
   "metadata": {},
   "outputs": [],
   "source": [
    "y_pred"
   ]
  },
  {
   "cell_type": "code",
   "execution_count": null,
   "id": "22e3a45e",
   "metadata": {},
   "outputs": [],
   "source": [
    "from sklearn.metrics import confusion_matrix\n",
    "confusion_matrix(Y_test, y_pred)"
   ]
  },
  {
   "cell_type": "code",
   "execution_count": null,
   "id": "5f85d91d",
   "metadata": {},
   "outputs": [],
   "source": [
    "from sklearn.metrics import accuracy_score\n",
    "# multilayer perceptron model for the two circles problem\n",
    "from sklearn.datasets import make_circles\n",
    "from keras.models import Sequential\n",
    "from keras.layers import Dense\n",
    "\n",
    "# predict probabilities for test set\n",
    "yhat_probs = model.predict(X_test, verbose=0)\n",
    "# predict crisp classes for test set\n",
    "yhat_classes=np.argmax(yhat_probs,axis=1)\n",
    "\n",
    "#reduce to 1d array\n",
    "yhat_probs = yhat_probs[:, 0]\n",
    "yhat_classes = yhat_classes[:]\n",
    "\n",
    "\n",
    "# accuracy: (tp + tn) / (p + n)\n",
    "accuracy = accuracy_score(X_test, yhat_classes)\n",
    "print('Accuracy: %f' % accuracy)\n",
    "# precision tp / (tp + fp)\n",
    "precision = precision_score(testy, yhat_classes)\n",
    "print('Precision: %f' % precision)\n",
    "# recall: tp / (tp + fn)\n",
    "recall = recall_score(testy, yhat_classes)\n",
    "print('Recall: %f' % recall)\n",
    "# f1: 2 tp / (2 tp + fp + fn)\n",
    "f1 = f1_score(testy, yhat_classes)\n",
    "print('F1 score: %f' % f1)\n",
    "\n"
   ]
  }
 ],
 "metadata": {
  "kernelspec": {
   "display_name": "Python 3 (ipykernel)",
   "language": "python",
   "name": "python3"
  },
  "language_info": {
   "codemirror_mode": {
    "name": "ipython",
    "version": 3
   },
   "file_extension": ".py",
   "mimetype": "text/x-python",
   "name": "python",
   "nbconvert_exporter": "python",
   "pygments_lexer": "ipython3",
   "version": "3.9.12"
  }
 },
 "nbformat": 4,
 "nbformat_minor": 5
}
